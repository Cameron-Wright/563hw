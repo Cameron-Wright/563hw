{
 "cells": [
  {
   "cell_type": "code",
   "execution_count": 1,
   "metadata": {},
   "outputs": [
    {
     "name": "stdout",
     "output_type": "stream",
     "text": [
      "Requirement already satisfied: python-mnist in ./opt/anaconda3/lib/python3.7/site-packages (0.7)\n",
      "Note: you may need to restart the kernel to use updated packages.\n"
     ]
    }
   ],
   "source": [
    "pip install python-mnist"
   ]
  },
  {
   "cell_type": "markdown",
   "metadata": {},
   "source": [
    "In this notebook we will use various $AX=B$ solvers and promoted sparsity to define maps that classify the images of the MNIST data set into one of 10 categories, depending on whether the maps believe that a given handwritten image depicts a handwritten digit from 0 to 9. To do this, we use $\\texttt{numpy}$, $\\texttt{scipy}$, and $\\texttt{matplotlib}$. All details are described in the body of the notebook via comments and intermittent Markdown cells. "
   ]
  },
  {
   "cell_type": "code",
   "execution_count": 341,
   "metadata": {},
   "outputs": [],
   "source": [
    "from mnist import MNIST\n",
    "import numpy as np\n",
    "import matplotlib.pyplot as plt\n",
    "from numpy import linalg as LA\n",
    "from scipy.optimize import minimize\n",
    "from scipy.optimize import fmin\n",
    "from matplotlib import rcParams\n",
    "rcParams.update({'font.size': 18})\n",
    "\n",
    "mndata = MNIST('hw1_samples')\n",
    "\n",
    "images, labels = mndata.load_training()\n",
    "images2, labels2 = mndata.load_testing()"
   ]
  },
  {
   "cell_type": "code",
   "execution_count": 342,
   "metadata": {},
   "outputs": [],
   "source": [
    "nsamples = 60000          #set parameters for the data set\n",
    "ntesting = 10000   \n",
    "npixels = 784\n",
    "ndigits = 10"
   ]
  },
  {
   "cell_type": "code",
   "execution_count": 343,
   "metadata": {},
   "outputs": [],
   "source": [
    "A = np.zeros((nsamples,npixels))     #matrix A will hold all of our training images\n",
    "for ii in range(nsamples):\n",
    "    A[ii,:] = images[ii]\n",
    "\n",
    "B = np.zeros((nsamples,ndigits))     #matrix B will hold training labels\n",
    "for jj in range(nsamples):\n",
    "    B[jj,labels[jj]] = 1"
   ]
  },
  {
   "cell_type": "code",
   "execution_count": 344,
   "metadata": {},
   "outputs": [],
   "source": [
    "C = np.zeros((ntesting,npixels))     #C holds testing images\n",
    "for ii in range(ntesting):\n",
    "    C[ii,:] = images2[ii]\n",
    "\n",
    "D = np.zeros((ntesting,ndigits))     #D holds testing labels\n",
    "for jj in range(ntesting):\n",
    "    D[jj,labels2[jj]] = 1"
   ]
  },
  {
   "cell_type": "code",
   "execution_count": 345,
   "metadata": {},
   "outputs": [],
   "source": [
    "from sklearn import linear_model"
   ]
  },
  {
   "cell_type": "code",
   "execution_count": 346,
   "metadata": {},
   "outputs": [],
   "source": [
    "Xpinv = np.linalg.pinv(A)@B            #pseudo-inverse"
   ]
  },
  {
   "cell_type": "code",
   "execution_count": 347,
   "metadata": {},
   "outputs": [],
   "source": [
    "reg = linear_model.LinearRegression()    #vanilla linear regression\n",
    "reg.fit(A,B)\n",
    "Xlr = reg.coef_"
   ]
  },
  {
   "cell_type": "code",
   "execution_count": 348,
   "metadata": {},
   "outputs": [],
   "source": [
    "reg1 = linear_model.Lasso(alpha=0.1)     #Lasso, alpha = 0.1\n",
    "reg1.fit(A,B)\n",
    "Xlas1 = reg1.coef_"
   ]
  },
  {
   "cell_type": "code",
   "execution_count": 349,
   "metadata": {},
   "outputs": [],
   "source": [
    "reg2 = linear_model.Lasso(alpha=0.5)     #Lasso, alpha = 0.5\n",
    "reg2.fit(A,B)\n",
    "Xlas2 = reg2.coef_"
   ]
  },
  {
   "cell_type": "code",
   "execution_count": 350,
   "metadata": {},
   "outputs": [],
   "source": [
    "reg3 = linear_model.Lasso(alpha=1)      #Lasso, alpha = 1.0\n",
    "reg3.fit(A,B)\n",
    "Xlas3 = reg3.coef_"
   ]
  },
  {
   "cell_type": "code",
   "execution_count": 351,
   "metadata": {},
   "outputs": [],
   "source": [
    "regg1 = linear_model.Ridge(alpha=0.1)    #Ridge, alpha = 0.1\n",
    "regg1.fit(A,B)\n",
    "Xrid1 = regg1.coef_"
   ]
  },
  {
   "cell_type": "code",
   "execution_count": 352,
   "metadata": {},
   "outputs": [],
   "source": [
    "regg2 = linear_model.Ridge(alpha=0.5)   #Ridge, alpha = 0.5\n",
    "regg2.fit(A,B)\n",
    "Xrid2 = regg2.coef_"
   ]
  },
  {
   "cell_type": "markdown",
   "metadata": {},
   "source": [
    "Now that we have our matrices $X$ associated to each of the above solvers, we evaluate and compare their error on the test data sets before selecting one and proceeding to cross-validation."
   ]
  },
  {
   "cell_type": "code",
   "execution_count": 353,
   "metadata": {},
   "outputs": [],
   "source": [
    "Epinv = np.absolute(D - np.dot(C,Xpinv)); Dpinv = np.dot(C,Xpinv)\n",
    "Elr = np.absolute(D - np.dot(C,Xlr.T)); Dlr = np.dot(C,Xlr.T)\n",
    "Elas1 = np.absolute(D - np.dot(C,Xlas1.T)); Dlas1 = np.dot(C,Xlas1.T)    #E[type] contains entrywise absolute error\n",
    "Elas2 = np.absolute(D - np.dot(C,Xlas2.T)); Dlas2 = np.dot(C,Xlas2.T)    #D[type] is C X[type] (right-multiplied onto C)\n",
    "Elas3 = np.absolute(D - np.dot(C,Xlas3.T)); Dlas3 = np.dot(C,Xlas3.T)\n",
    "Erid1 = np.absolute(D - np.dot(C,Xrid1.T)); Drid1 = np.dot(C,Xrid1.T)\n",
    "Erid2 = np.absolute(D - np.dot(C,Xrid2.T)); Drid2 = np.dot(C,Xrid2.T)"
   ]
  },
  {
   "cell_type": "code",
   "execution_count": 354,
   "metadata": {},
   "outputs": [
    {
     "name": "stdout",
     "output_type": "stream",
     "text": [
      "[[0.9821428571428571]\n",
      " [0.9821428571428571]\n",
      " [0.2880102040816326]\n",
      " [0.1531887755102041]\n",
      " [0.10625           ]\n",
      " [0.9145408163265306]\n",
      " [0.9145408163265306]]\n"
     ]
    }
   ],
   "source": [
    "pinv = 0 ; las1 = 0 ; las2 = 0 ; las3 = 0\n",
    "rid1 = 0 ; rid2 = 0 ; lr = 0\n",
    "\n",
    "for jj in range(npixels):          #iterate across entries of X[type]\n",
    "    for ii in range(ndigits):\n",
    "        if Xpinv[jj,ii] != 0:      #record number of nonzero entries\n",
    "            pinv = pinv + 1\n",
    "        if Xlr.T[jj,ii] != 0:\n",
    "            lr = lr + 1\n",
    "        if Xlas1.T[jj,ii] != 0:\n",
    "            las1 = las1 + 1\n",
    "        if Xlas2.T[jj,ii] != 0:\n",
    "            las2 = las2 + 1\n",
    "        if Xlas3.T[jj,ii] != 0:\n",
    "            las3 = las3 + 1\n",
    "        if Xrid1.T[jj,ii] != 0:\n",
    "            rid1 = rid1 + 1\n",
    "        if Xrid2.T[jj,ii] != 0:\n",
    "            rid2 = rid2 + 1\n",
    "nonzero = np.array([[pinv/7840], [lr/7840], [las1/7840], [las2/7840], [las3/7840], [rid1/7840], [rid2/7840]])\n",
    "print(nonzero)  #nonzero is vector of the fraction of nonzero entries for all of the X[type]"
   ]
  },
  {
   "cell_type": "code",
   "execution_count": 356,
   "metadata": {},
   "outputs": [
    {
     "name": "stdout",
     "output_type": "stream",
     "text": [
      "[[0.1466]\n",
      " [0.1886]\n",
      " [0.1913]\n",
      " [0.2083]\n",
      " [0.223 ]\n",
      " [0.1885]\n",
      " [0.1885]]\n"
     ]
    }
   ],
   "source": [
    "pinv = 0 ; las1 = 0 ; las2 = 0 ; las3 = 0\n",
    "rid1 = 0 ; rid2 = 0 ; lr = 0\n",
    "\n",
    "for jj in range(ntesting):\n",
    "    if np.argmax(Dpinv[jj,:]) != np.argmax(D[jj,:]):\n",
    "        pinv = pinv + 1\n",
    "    if np.argmax(Dlr[jj,:]) != np.argmax(D[jj,:]):       #record number of times D[type] is most confident of wrong digit\n",
    "        lr = lr + 1                                      #take the index of max of each row in D[type]\n",
    "    if np.argmax(Dlas1[jj,:]) != np.argmax(D[jj,:]):     #if this disagrees with index of correct digit in D, count up\n",
    "        las1 = las1 + 1\n",
    "    if np.argmax(Dlas2[jj,:]) != np.argmax(D[jj,:]):\n",
    "        las2 = las2 + 1\n",
    "    if np.argmax(Dlas3[jj,:]) != np.argmax(D[jj,:]):\n",
    "        las3 = las3 + 1\n",
    "    if np.argmax(Drid1[jj,:]) != np.argmax(D[jj,:]):\n",
    "        rid1 = rid1 + 1\n",
    "    if np.argmax(Drid2[jj,:]) != np.argmax(D[jj,:]):\n",
    "        rid2 = rid2 + 1\n",
    "eratio = np.array([[pinv/ntesting], [lr/ntesting], [las1/ntesting], [las2/ntesting], [las3/ntesting], [rid1/ntesting], [rid2/ntesting]])\n",
    "print(eratio)       #now eratio is the vector of fractions of errors in this sense in each D[type]"
   ]
  },
  {
   "cell_type": "markdown",
   "metadata": {},
   "source": [
    "We choose $\\texttt{Xlas2}$ (the middle entry of each of the above 3 output vectors), which is the matrix given by Lasso with $\\alpha = 0.5$. The reason for this selection is that while $\\texttt{Xlas2}$ maintains a reasonable level of sparsity (only 15% nonzero entries), it still performs with the low error rate of 20%. \n",
    "\n",
    "The sparsity of $\\texttt{Xlas2}$ can be seen in the plot below; we have the 784 pixels of the images plotted on the $y$-axis, while the spaces on the $x$-axis are the digits to be interpreted. As stated before, we can interpret the entries of $\\texttt{Xlas2}$ as weights for the pixels in the images, where high absolute-value entries in column $j$ represent important pixels for determining whether the image depicts $j$. High absolute-value entries are given bright colors, while pixels that are easily ignored are in darker colors."
   ]
  },
  {
   "cell_type": "code",
   "execution_count": 404,
   "metadata": {},
   "outputs": [
    {
     "data": {
      "text/plain": [
       "<matplotlib.colorbar.Colorbar at 0x1020bbfed0>"
      ]
     },
     "execution_count": 404,
     "metadata": {},
     "output_type": "execute_result"
    },
    {
     "data": {
      "image/png": "[encoded data removed]",
      "text/plain": [
       "<Figure size 432x288 with 2 Axes>"
      ]
     },
     "metadata": {
      "needs_background": "light"
     },
     "output_type": "display_data"
    }
   ],
   "source": [
    "plt.pcolor(np.absolute(Xlas2.T),cmap='afmhot')\n",
    "plt.colorbar()"
   ]
  },
  {
   "cell_type": "markdown",
   "metadata": {},
   "source": [
    "From here, we will promote additional sparsity, but not before cross-validation. It should be noted that the matrix $Xlas2$ is now a transposed version of the matrix $X$ that we think of in $AX=B$. Accordingly, columns now correspond to individual pixels, while rows correspond to digit predictions.\n",
    "\n",
    "We now move on to $k$-fold validation with $k=5,10,20,50$. In particular, we separate the 60000 training samples into $k$ folds consisting of 6000$/k$ samples each; after this, we run the chosen solver (Lasso, $\\alpha = 0.5$) on each of the folds individually and average the resulting matrices $X$ entrywise, obtaining 5 matrices $X$ which will be compared before proceeding with the analysis."
   ]
  },
  {
   "cell_type": "code",
   "execution_count": 357,
   "metadata": {},
   "outputs": [],
   "source": [
    "asub = np.zeros((100,npixels))\n",
    "bsub = np.zeros((100,ndigits))\n",
    "X10 = np.zeros((ndigits,npixels))\n",
    "xsub = np.copy(X10)              #k=10 folds\n",
    "for jj in range(10):\n",
    "    asub = A[jj*6000:jj*6000 + 5999,:]    #training images are broken into consecutive blocks of 1000 images\n",
    "    bsub = B[jj*6000:jj*6000 + 5999,:]    #same for labels\n",
    "    reg = linear_model.Lasso(alpha=0.5) #same solver as Xlas2 above\n",
    "    reg.fit(asub,bsub)\n",
    "    xsub = reg.coef_\n",
    "    X10 = X10 + xsub                   #all solution matrices xsub of each block are added up\n",
    "X10 = 0.1*X10                          #subsequently they are divided by k"
   ]
  },
  {
   "cell_type": "code",
   "execution_count": 358,
   "metadata": {},
   "outputs": [],
   "source": [
    "asub = np.zeros((100,npixels))\n",
    "bsub = np.zeros((100,ndigits))\n",
    "X20 = np.zeros((ndigits,npixels))\n",
    "xsub = np.copy(X20)\n",
    "for jj in range(20):             #k=20 folds\n",
    "    asub = A[jj*3000:jj*3000 + 2999,:]\n",
    "    bsub = B[jj*3000:jj*3000 + 2999,:]\n",
    "    reg = linear_model.Lasso(alpha=0.5)\n",
    "    reg.fit(asub,bsub)\n",
    "    xsub = reg.coef_\n",
    "    X20 = X20 + xsub\n",
    "X20 = 0.05*X20"
   ]
  },
  {
   "cell_type": "code",
   "execution_count": 359,
   "metadata": {},
   "outputs": [],
   "source": [
    "asub = np.zeros((100,npixels))\n",
    "bsub = np.zeros((100,ndigits))\n",
    "X50 = np.zeros((ndigits,npixels))\n",
    "xsub = np.copy(X50)\n",
    "for jj in range(50):             #k=50 folds\n",
    "    asub = A[1*1200:1*1200 + 1199,:]\n",
    "    bsub = B[1*1200:1*1200 + 1199,:]\n",
    "    reg = linear_model.Lasso(alpha=0.5)\n",
    "    reg.fit(asub,bsub)\n",
    "    xsub = reg.coef_\n",
    "    X50 = X50 + xsub\n",
    "X50 = 0.02*X50"
   ]
  },
  {
   "cell_type": "code",
   "execution_count": 360,
   "metadata": {},
   "outputs": [],
   "source": [
    "asub = np.zeros((100,npixels))\n",
    "bsub = np.zeros((100,ndigits))\n",
    "X5 = np.zeros((ndigits,npixels))\n",
    "xsub = np.copy(X5)\n",
    "for jj in range(5):             #k=5 folds\n",
    "    asub = A[1*12000:1*12000 + 11999,:]\n",
    "    bsub = B[1*12000:1*12000 + 11999,:]\n",
    "    reg = linear_model.Lasso(alpha=0.5)\n",
    "    reg.fit(asub,bsub)\n",
    "    xsub = reg.coef_\n",
    "    X5 = X5 + xsub\n",
    "X5 = 0.2*X5"
   ]
  },
  {
   "cell_type": "code",
   "execution_count": 361,
   "metadata": {},
   "outputs": [],
   "source": [
    "D10 = np.dot(C,X10.T)    #left-multiply by C to obtain the predictions of the cross-validated Xk\n",
    "D20 = np.dot(C,X20.T)\n",
    "D50 = np.dot(C,X50.T)\n",
    "D5 = np.dot(C,X5.T)"
   ]
  },
  {
   "cell_type": "code",
   "execution_count": 362,
   "metadata": {},
   "outputs": [
    {
     "name": "stdout",
     "output_type": "stream",
     "text": [
      "[0.2083 0.2061 0.2081 0.2077 0.2109]\n"
     ]
    }
   ],
   "source": [
    "ecross10 = 0 ; ecross20 = 0 ; ecross50 = 0 ; ecross5 = 0 \n",
    "for jj in range(ntesting):\n",
    "    if np.argmax(D10[jj,:]) != np.argmax(D[jj,:]):    #test for incorrect indices in Dk\n",
    "        ecross10 = ecross10 + 1                       #count up error if index of max entry disagrees with correct\n",
    "    if np.argmax(D20[jj,:]) != np.argmax(D[jj,:]):\n",
    "        ecross20 = ecross20 + 1\n",
    "    if np.argmax(D50[jj,:]) != np.argmax(D[jj,:]):\n",
    "        ecross50 = ecross50 + 1\n",
    "    if np.argmax(D5[jj,:]) != np.argmax(D[jj,:]):\n",
    "        ecross5 = ecross5 + 1\n",
    "eratio = np.array([las2/ntesting , ecross5/ntesting , ecross10/ntesting , ecross20/ntesting , ecross50/ntesting])\n",
    "print(eratio)               #eratio is vector of fractions of errors so-described in k=1,5,10,20,50 (this order)"
   ]
  },
  {
   "cell_type": "markdown",
   "metadata": {},
   "source": [
    "It is straightforward to see that the lowest error ratio is obtained by the matrix $\\texttt{X5}$ that was obtained by cross-validation with $k=5$ folds.\n",
    "\n",
    "Now, for the sake of visualization, we illustrate a plot depicting the importance of pixels as weighted by the matrix $\\texttt{X5}$, as we did with the matrix $\\texttt{Xlas2}$:"
   ]
  },
  {
   "cell_type": "code",
   "execution_count": 405,
   "metadata": {},
   "outputs": [
    {
     "data": {
      "text/plain": [
       "<matplotlib.colorbar.Colorbar at 0x10211bbe50>"
      ]
     },
     "execution_count": 405,
     "metadata": {},
     "output_type": "execute_result"
    },
    {
     "data": {
      "image/png": "[encoded data removed]",
      "text/plain": [
       "<Figure size 432x288 with 2 Axes>"
      ]
     },
     "metadata": {
      "needs_background": "light"
     },
     "output_type": "display_data"
    }
   ],
   "source": [
    "plt.pcolor(np.absolute(X5.T),cmap='afmhot')\n",
    "plt.colorbar()"
   ]
  },
  {
   "cell_type": "markdown",
   "metadata": {},
   "source": [
    "Considering this plot and comparing it to that of $\\texttt{Xlas2}$, we can see that many of the pixels that are heavily weighted by $\\texttt{Xlas2}$ are also heavily weighted by $\\texttt{X5}$; this is not only unexpected, but also reassuring, as we are now more assured by the fact that cross-validation has reassured us of the importance of these pixels, while achieving an even lower error ratio with the matrix $\\texttt{X5}$. Taking this matrix as our map, we move forward with our analysis.\n",
    "\n",
    "We now move on to promote additional sparsity, taking only the $m$ ($m$ = 100, 125, 150) highest-$L^1$-norm pixels, augmenting $\\texttt{X5}$ accordingly, and comparing these sparse representations for accuracy. For comparison, before we formulate each of these sparse representations, we count the number of nonzero rows in $\\texttt{X_5}$."
   ]
  },
  {
   "cell_type": "code",
   "execution_count": 427,
   "metadata": {},
   "outputs": [
    {
     "name": "stdout",
     "output_type": "stream",
     "text": [
      "383\n"
     ]
    }
   ],
   "source": [
    "nonzero = 0\n",
    "\n",
    "for jj in range(npixels):\n",
    "    if np.linalg.norm(X5[:,jj],1) != 0:\n",
    "        nonzero = nonzero + 1\n",
    "print(nonzero)"
   ]
  },
  {
   "cell_type": "markdown",
   "metadata": {},
   "source": [
    "Knowing now that the matrix $\\texttt{X5}$ contains 383 nonzero rows, we move on to construct the matrices $\\texttt{Sparse_m}$, each having $m$ nonzero pixels for $m$ = 100, 125, 150"
   ]
  },
  {
   "cell_type": "code",
   "execution_count": 363,
   "metadata": {
    "scrolled": true
   },
   "outputs": [],
   "source": [
    "X = np.copy(X5)\n",
    "bigg = np.array([0])   #bigg will contain the L1-norms of all pixels\n",
    "\n",
    "for jj in range(npixels):\n",
    "    y = X[:,jj]\n",
    "    v = np.array([np.linalg.norm(y,1)])\n",
    "    bigg = np.vstack((bigg,v))"
   ]
  },
  {
   "cell_type": "code",
   "execution_count": 364,
   "metadata": {},
   "outputs": [
    {
     "name": "stdout",
     "output_type": "stream",
     "text": [
      "[[351.                   0.0010808694875256]\n",
      " [377.                   0.0010096711504346]\n",
      " [103.                   0.0008434343641433]\n",
      " [713.                   0.0007942647476544]\n",
      " [249.                   0.0007781254422101]\n",
      " [349.                   0.0007702644215454]\n",
      " [379.                   0.000734268254758 ]\n",
      " [105.                   0.0007259291768528]\n",
      " [278.                   0.0006984129791115]\n",
      " [544.                   0.0006841883918346]\n",
      " [101.                   0.0006620682294253]\n",
      " [718.                   0.0006257890792784]\n",
      " [720.                   0.0005989196950185]\n",
      " [711.                   0.000593506136631 ]\n",
      " [584.                   0.0005903166785658]\n",
      " [709.                   0.0005901508359071]\n",
      " [151.                   0.0005612844896686]\n",
      " [402.                   0.000554206924743 ]\n",
      " [435.                   0.0005413132669784]\n",
      " [213.                   0.0005235328600658]\n",
      " [529.                   0.0005057413376102]\n",
      " [437.                   0.0005038521724645]\n",
      " [268.                   0.0004971082741928]\n",
      " [192.                   0.0004931200279192]\n",
      " [416.                   0.0004836489970906]\n",
      " [462.                   0.0004823900930753]\n",
      " [387.                   0.0004784162455343]\n",
      " [323.                   0.0004707923299566]\n",
      " [331.                   0.0004622529564854]\n",
      " [460.                   0.0004594353658055]\n",
      " [410.                   0.0004592903043438]\n",
      " [461.                   0.0004551309235433]\n",
      " [515.                   0.0004487817343078]\n",
      " [212.                   0.000448432706847 ]\n",
      " [221.                   0.0004432117604017]\n",
      " [465.                   0.0004418743327368]\n",
      " [ 71.                   0.000438776212757 ]\n",
      " [406.                   0.0004321384082363]\n",
      " [211.                   0.0004312095225917]\n",
      " [434.                   0.0004301486016123]\n",
      " [292.                   0.0004175183257195]\n",
      " [491.                   0.0004170458337042]\n",
      " [407.                   0.0004142816864261]\n",
      " [354.                   0.0004079370748676]\n",
      " [542.                   0.0004068347979047]\n",
      " [428.                   0.0003913770441952]\n",
      " [297.                   0.0003862536719861]\n",
      " [326.                   0.0003860140816904]\n",
      " [516.                   0.0003829266106516]\n",
      " [381.                   0.0003824175425169]\n",
      " [258.                   0.0003809345526252]\n",
      " [400.                   0.0003786482552606]\n",
      " [375.                   0.000378471163463 ]\n",
      " [182.                   0.0003779435067132]\n",
      " [658.                   0.0003712064836714]\n",
      " [519.                   0.0003681974644788]\n",
      " [347.                   0.0003673771347661]\n",
      " [324.                   0.0003655423670016]\n",
      " [463.                   0.0003632339998811]\n",
      " [568.                   0.0003609508684226]\n",
      " [300.                   0.0003513896348012]\n",
      " [319.                   0.000344897335532 ]\n",
      " [383.                   0.0003413626680242]\n",
      " [360.                   0.0003411875199569]\n",
      " [716.                   0.0003357077063213]\n",
      " [438.                   0.000330749907872 ]\n",
      " [602.                   0.000329714664912 ]\n",
      " [742.                   0.0003289662399815]\n",
      " [488.                   0.0003280007121578]\n",
      " [432.                   0.0003276242830132]\n",
      " [744.                   0.0003273075401067]\n",
      " [498.                   0.0003263786183173]\n",
      " [382.                   0.000326033773743 ]\n",
      " [565.                   0.0003248738925071]\n",
      " [285.                   0.0003228862268636]\n",
      " [302.                   0.0003226734870122]\n",
      " [610.                   0.0003224509544409]\n",
      " [353.                   0.0003217052450623]\n",
      " [318.                   0.000320724972397 ]\n",
      " [152.                   0.0003192773515289]\n",
      " [261.                   0.000318739546378 ]\n",
      " [296.                   0.0003187145689669]\n",
      " [153.                   0.0003183285222879]\n",
      " [193.                   0.0003170862778579]\n",
      " [328.                   0.0003154628515134]\n",
      " [371.                   0.0003137322978052]\n",
      " [267.                   0.0003112134003901]\n",
      " [518.                   0.0003086004072731]\n",
      " [657.                   0.0003054763531918]\n",
      " [628.                   0.0003045454360704]\n",
      " [214.                   0.0003000733855917]\n",
      " [277.                   0.0002995311232324]\n",
      " [409.                   0.0002984214493791]\n",
      " [411.                   0.000297966459074 ]\n",
      " [539.                   0.0002961660385011]\n",
      " [573.                   0.0002937560780424]\n",
      " [241.                   0.0002922141081803]\n",
      " [399.                   0.0002879622534282]\n",
      " [374.                   0.0002862466979664]\n",
      " [414.                   0.0002855659273556]\n",
      " [191.                   0.000285507072639 ]\n",
      " [429.                   0.0002831115801729]\n",
      " [492.                   0.0002805657298832]\n",
      " [234.                   0.0002802551204077]\n",
      " [654.                   0.0002797244938009]\n",
      " [376.                   0.0002782763862714]\n",
      " [373.                   0.0002761579206234]\n",
      " [320.                   0.0002759779323935]\n",
      " [510.                   0.0002759305166086]\n",
      " [348.                   0.0002737085223765]\n",
      " [487.                   0.000273229350082 ]\n",
      " [543.                   0.0002730023111728]\n",
      " [301.                   0.0002710583843648]\n",
      " [611.                   0.0002697455887291]\n",
      " [403.                   0.0002692835199155]\n",
      " [350.                   0.0002667232558817]\n",
      " [459.                   0.0002653108772583]\n",
      " [579.                   0.0002637511584811]\n",
      " [404.                   0.0002623496537825]\n",
      " [659.                   0.0002569171769323]\n",
      " [321.                   0.0002568715238226]\n",
      " [550.                   0.0002559329946782]\n",
      " [660.                   0.0002548982955789]\n",
      " [524.                   0.0002540372480931]\n",
      " [489.                   0.0002537394415493]\n",
      " [427.                   0.0002536286607075]\n",
      " [372.                   0.0002517580360091]\n",
      " [157.                   0.0002470293134743]\n",
      " [490.                   0.0002446570761103]\n",
      " [523.                   0.0002426512463407]\n",
      " [401.                   0.0002426409220979]\n",
      " [738.                   0.0002410626295157]\n",
      " [295.                   0.0002404041307704]\n",
      " [183.                   0.0002395250006276]\n",
      " [715.                   0.0002394584153572]\n",
      " [583.                   0.0002390918172141]\n",
      " [156.                   0.0002385054921485]\n",
      " [575.                   0.0002380709979173]\n",
      " [714.                   0.0002378284180788]\n",
      " [ 70.                   0.0002362882917052]\n",
      " [100.                   0.0002357352455275]\n",
      " [440.                   0.0002341001098461]\n",
      " [405.                   0.000233888665816 ]\n",
      " [661.                   0.0002328472274676]\n",
      " [493.                   0.0002296656625006]\n",
      " [266.                   0.0002289548354751]\n",
      " [125.                   0.000225547429102 ]\n",
      " [426.                   0.0002253677225521]\n",
      " [514.                   0.0002251942029327]\n",
      " [717.                   0.0002251192051505]]\n"
     ]
    }
   ],
   "source": [
    "biggest = np.array([0, 0])      #biggest will keep the indices and L1-norms\n",
    "for jj in range(150):\n",
    "    index = np.argmax(bigg)   #index of max\n",
    "    value = np.max(bigg)      #max itself\n",
    "    x = np.array([index, value]) #append to biggest\n",
    "    biggest = np.vstack((biggest,x))  \n",
    "    bigg[index] = 0           #zero out bigg so as to avoid double-counting largest entry\n",
    "biggest = np.delete(biggest, 0, 0)   #remove initial row\n",
    "np.set_printoptions(precision=16,suppress=True)\n",
    "print(biggest)"
   ]
  },
  {
   "cell_type": "markdown",
   "metadata": {},
   "source": [
    "The above matrix includes in the left column the indices of the highest-weight pixels in the representation $X10$ of the images-to-labels map. The right column is comprised of the actual weights (in $L^1$-norm) of these pixels; note that after the 2 heaviest pixels, the $L^1$-norms drop to $\\mathcal{O}(10^{-4})$. That's already pretty tiny. At any rate, we move on and construct our sparse modifications of $\\texttt{X5}$:"
   ]
  },
  {
   "cell_type": "code",
   "execution_count": 365,
   "metadata": {},
   "outputs": [],
   "source": [
    "Sparse_100 = np.zeros((ndigits,npixels)) #start with matrix of zeros\n",
    "for jj in range(100):\n",
    "    k =  biggest[jj,0]     \n",
    "    k = int(k)\n",
    "    Sparse_100[:,k] = X[:,k]             #fill in with the appropriate pixel weights (note: pixel weights are in cols)\n",
    "    \n",
    "Dee_100 = np.dot(C,Sparse_100.T)    #record predictions from top 100, transposing appropriately"
   ]
  },
  {
   "cell_type": "code",
   "execution_count": 366,
   "metadata": {},
   "outputs": [],
   "source": [
    "Sparse_125 = np.zeros((ndigits,npixels))\n",
    "for jj in range(125):\n",
    "    k =  biggest[jj,0]\n",
    "    k = int(k)\n",
    "    Sparse_125[:,k] = X[:,k]\n",
    "    \n",
    "Dee_125 = np.dot(C,Sparse_125.T)    #record predictions from top 125"
   ]
  },
  {
   "cell_type": "code",
   "execution_count": 367,
   "metadata": {},
   "outputs": [],
   "source": [
    "Sparse_150 = np.zeros((ndigits,npixels))\n",
    "for jj in range(150):\n",
    "    k =  biggest[jj,0]\n",
    "    k = int(k)\n",
    "    Sparse_150[:,k] = X[:,k]\n",
    "    \n",
    "Dee_150 = np.dot(C,Sparse_150.T)    ##record predictions from top 150"
   ]
  },
  {
   "cell_type": "code",
   "execution_count": 368,
   "metadata": {},
   "outputs": [
    {
     "name": "stdout",
     "output_type": "stream",
     "text": [
      "0.5105\n"
     ]
    }
   ],
   "source": [
    "errors = 0\n",
    "for jj in range(ntesting):\n",
    "    if np.argmax(Dee_100[jj,:]) != np.argmax(D[jj,:]):  #this is now our preferred measure of error\n",
    "        errors = errors + 1                             #index of max in prediction vs index of correct digit\n",
    "eratio_100 = errors/ntesting\n",
    "print(eratio_100)            #ratio of errors after accounting for only 100 heaviest pixels"
   ]
  },
  {
   "cell_type": "code",
   "execution_count": 369,
   "metadata": {},
   "outputs": [
    {
     "name": "stdout",
     "output_type": "stream",
     "text": [
      "0.4287\n"
     ]
    }
   ],
   "source": [
    "errors = 0\n",
    "for jj in range(ntesting):\n",
    "    if np.argmax(Dee_125[jj,:]) != np.argmax(D[jj,:]):\n",
    "        errors = errors + 1\n",
    "eratio_125 = errors/ntesting\n",
    "print(eratio_125)             #ratio of errors after accounting for only 125 heaviest pixels"
   ]
  },
  {
   "cell_type": "code",
   "execution_count": 370,
   "metadata": {},
   "outputs": [
    {
     "name": "stdout",
     "output_type": "stream",
     "text": [
      "0.3785\n"
     ]
    }
   ],
   "source": [
    "errors = 0\n",
    "for jj in range(ntesting):\n",
    "    if np.argmax(Dee_150[jj,:]) != np.argmax(D[jj,:]):\n",
    "        errors = errors + 1\n",
    "eratio_150 = errors/ntesting\n",
    "print(eratio_150)             #ratio of errors after accounting for only 150 heaviest pixels"
   ]
  },
  {
   "cell_type": "markdown",
   "metadata": {},
   "source": [
    "As we can see, after promoting sparsity by considering only the 150 most-important pixels in the image, our error ratio ($\\texttt{eratio_150}$ above) has grown, but we still maintain 38% failure, i.e. 62% accuracy, in our prediction on the test set. Compare this with the value obtained from the non-cross-validated $\\texttt{Xlas2}$:"
   ]
  },
  {
   "cell_type": "code",
   "execution_count": 371,
   "metadata": {},
   "outputs": [],
   "source": [
    "X = np.copy(Xlas2)\n",
    "bigg = np.array([0])   #bigg will contain the L1-norms of all pixels\n",
    "\n",
    "for jj in range(npixels):\n",
    "    y = X[:,jj]\n",
    "    v = np.array([np.linalg.norm(y,1)])\n",
    "    bigg = np.vstack((bigg,v))"
   ]
  },
  {
   "cell_type": "code",
   "execution_count": 372,
   "metadata": {},
   "outputs": [],
   "source": [
    "biggest = np.array([0, 0])      #biggest will keep the indices and L1-norms\n",
    "for jj in range(150):\n",
    "    index = np.argmax(bigg)   #index of max\n",
    "    value = np.max(bigg)      #max itself\n",
    "    x = np.array([index, value]) #append to biggest\n",
    "    biggest = np.vstack((biggest,x))  \n",
    "    bigg[index] = 0           #zero out bigg so as to avoid double-counting largest entry\n",
    "biggest = np.delete(biggest, 0, 0)   #remove initial row\n",
    "np.set_printoptions(precision=16,suppress=True)"
   ]
  },
  {
   "cell_type": "code",
   "execution_count": 373,
   "metadata": {},
   "outputs": [],
   "source": [
    "Sparse150 = np.zeros((ndigits,npixels))\n",
    "for jj in range(150):\n",
    "    k =  biggest[jj,0]\n",
    "    k = int(k)\n",
    "    Sparse150[:,k] = X[:,k]\n",
    "    \n",
    "Dee150 = np.dot(C,Sparse150.T)    #record predictions from top 150 using Xlas2"
   ]
  },
  {
   "cell_type": "code",
   "execution_count": 374,
   "metadata": {},
   "outputs": [
    {
     "name": "stdout",
     "output_type": "stream",
     "text": [
      "0.3303\n"
     ]
    }
   ],
   "source": [
    "errors = 0\n",
    "for jj in range(ntesting):\n",
    "    if np.argmax(Dee150[jj,:]) != np.argmax(D[jj,:]):\n",
    "        errors = errors + 1\n",
    "eratio150 = errors/ntesting\n",
    "print(eratio150)             #ratio of errors after accounting for only 150 heaviest pixels using Xlas2"
   ]
  },
  {
   "cell_type": "markdown",
   "metadata": {},
   "source": [
    "Note that now we have seen a 67% success rate of prediction with the heaviest 150 pixels of $\\texttt{Xlas2}$ while we have seen only a 62% success rate of prediction with the 10-fold cross-validated version of $\\texttt{X10}$. I do not know why this would be the case, but it is worth noting. Perhaps some artifact of the ordering of samples has emerged as a stick in the spokes of our cross-validation. At any rate, while we discuss the promoted spartisy of $\\texttt{Sparse_150}$ over that of $\\texttt{X5}$, it is worth also considering the heat-map plot of the entries of $\\texttt{Sparse_150}$; as such, the plot of this matrix's weights is produced below."
   ]
  },
  {
   "cell_type": "code",
   "execution_count": 406,
   "metadata": {},
   "outputs": [
    {
     "data": {
      "text/plain": [
       "<matplotlib.colorbar.Colorbar at 0x10217b9e10>"
      ]
     },
     "execution_count": 406,
     "metadata": {},
     "output_type": "execute_result"
    },
    {
     "data": {
      "image/png": "[encoded data removed]",
      "text/plain": [
       "<Figure size 432x288 with 2 Axes>"
      ]
     },
     "metadata": {
      "needs_background": "light"
     },
     "output_type": "display_data"
    }
   ],
   "source": [
    "plt.pcolor(np.absolute(Sparse_150.T),cmap='afmhot')\n",
    "plt.colorbar()"
   ]
  },
  {
   "cell_type": "markdown",
   "metadata": {},
   "source": [
    "Examining the brightest entries of the above matrix and comparing it to the analogous plots of $\\texttt{Xlas2}$ and $\\texttt{X5}$, it is perhaps clearer to see which pixels matter most in distinguishing digits.\n",
    "\n",
    "We now re-do the above with digit-wise analysis, identifying the most important pixels for distinguishing each digit and creating a corresponding sparse matrix. This process is carried out in two ways. First, we take the matrix $\\texttt{X5}$ and find the 100 heaviest pixels in the column associated to each digit; second, we re-start the analysis, training again to decide the yes/no answer to \"Is this image a picture of digit $k$?\" for every $k$. These two methods are compared in terms of error."
   ]
  },
  {
   "cell_type": "code",
   "execution_count": 375,
   "metadata": {},
   "outputs": [
    {
     "name": "stdout",
     "output_type": "stream",
     "text": [
      "[[386. 350. 583. 564. 427. 248. 102. 708. 376. 719.]\n",
      " [359. 378. 528. 322. 425. 277. 104. 710. 348. 717.]\n",
      " [330. 434. 509. 376. 399. 191. 100. 741. 405. 712.]\n",
      " [387. 406. 124. 151. 426. 220.  70. 743. 656. 210.]\n",
      " [428. 462. 555. 592. 437. 192. 543. 284. 514. 212.]\n",
      " [300. 322. 518. 150. 431. 276. 415. 737. 657. 211.]\n",
      " [481. 517. 610. 176. 374. 162.  69. 712. 302. 716.]\n",
      " [301. 295. 150. 409. 400. 609.  99. 265. 658. 401.]\n",
      " [627. 160. 539. 323. 439. 188. 572. 235. 460. 718.]\n",
      " [240. 405. 581. 650. 464. 346.  68. 257. 433. 382.]\n",
      " [271. 490. 541. 683. 346. 348.  72. 232. 303. 715.]\n",
      " [629. 267. 609. 653. 490. 189. 514. 268. 327. 213.]\n",
      " [210. 294. 516. 468. 191. 376. 103. 267. 301. 371.]\n",
      " [401. 489. 538. 380. 373. 190. 601. 326. 662. 711.]\n",
      " [510. 461. 459. 296. 460. 305.  71. 739. 487. 370.]\n",
      " [270. 660. 492. 466. 353. 347. 470. 740. 488. 710.]\n",
      " [512. 433. 595. 497. 428. 291. 574. 266. 541. 237.]\n",
      " [155. 545. 565. 622. 438. 344. 375. 296. 157. 459.]\n",
      " [427. 659. 564. 181. 463. 206. 515. 713. 320. 380.]\n",
      " [181. 159. 569. 523. 491. 598. 523. 714. 247. 316.]\n",
      " [426.   0. 511. 578. 352. 608. 101. 742. 688. 409.]\n",
      " [213.   0. 491. 178. 325. 567. 576. 259. 627. 713.]\n",
      " [597.   0. 122. 410. 190. 319. 486. 715. 434. 344.]\n",
      " [265.   0. 493. 152. 461. 287. 430. 264. 318. 351.]\n",
      " [454.   0. 154. 352. 436. 263. 549. 285. 659. 720.]\n",
      " [441.   0. 517. 494. 398. 635. 408. 325. 515. 317.]\n",
      " [413.   0. 152. 182. 429. 582. 441. 233. 260. 436.]\n",
      " [628.   0. 460. 350. 456. 658. 385. 437. 261. 328.]\n",
      " [570.   0. 578. 271. 459. 373. 522. 381. 690. 379.]\n",
      " [484.   0. 156. 651. 381. 375. 575. 682. 660. 458.]\n",
      " [239.   0. 552. 655. 462. 260. 497. 286. 275. 343.]\n",
      " [186.   0. 127. 324. 489. 288. 653. 269. 513. 356.]\n",
      " [183.   0. 554. 353. 432. 554. 602. 234. 289. 290.]\n",
      " [482.   0. 180. 652. 402. 317. 413. 299. 156. 353.]\n",
      " [429.   0. 121. 149. 632. 596. 402. 410. 353. 325.]\n",
      " [626.   0. 567. 148. 401. 625. 348. 573. 262. 437.]\n",
      " [631.   0. 580. 680. 465. 207. 412. 464. 463. 374.]\n",
      " [214.   0. 185. 180. 347. 187. 544. 411. 273. 345.]\n",
      " [358.   0. 125. 656. 409. 657. 458. 261. 379. 355.]\n",
      " [318.   0. 519. 522. 217. 215. 457. 236. 290. 318.]\n",
      " [208.   0. 608. 563.   0. 684. 403. 409. 183. 354.]\n",
      " [267.   0. 551. 550.   0. 315. 414. 258. 299. 464.]\n",
      " [212.   0. 582. 349.   0. 186. 320. 716. 319. 209.]\n",
      " [373.   0. 607. 604.   0. 214.  98. 327. 663. 383.]\n",
      " [184.   0. 596. 272.   0. 235. 603. 355. 326. 429.]\n",
      " [457.   0. 177. 153.   0. 568. 386. 297. 291. 291.]\n",
      " [511.   0. 297. 654.   0. 316. 496. 263. 689. 378.]\n",
      " [398.   0. 465. 179.   0. 234. 573. 270. 181. 402.]\n",
      " [402.   0. 550. 437.   0. 685. 442. 260. 328. 372.]\n",
      " [372.   0. 520. 439.   0. 522. 652. 271. 404. 327.]\n",
      " [269.   0. 151. 576.   0. 597. 542. 440. 540. 408.]\n",
      " [243.   0. 636. 657.   0.   0. 435. 518. 208. 404.]\n",
      " [215.   0. 542. 549.   0.   0. 469. 262. 287. 238.]\n",
      " [630.   0. 521. 493.   0.   0. 682. 382. 435. 403.]\n",
      " [329.   0. 432. 525.   0.   0. 131. 294. 377.   0.]\n",
      " [485.   0. 464. 298.   0.   0.   0. 383.   0.   0.]\n",
      " [346.   0. 597. 438.   0.   0.   0.   0.   0.   0.]\n",
      " [453.   0. 155. 243.   0.   0.   0.   0.   0.   0.]\n",
      " [237.   0. 461. 325.   0.   0.   0.   0.   0.   0.]\n",
      " [374.   0. 126. 408.   0.   0.   0.   0.   0.   0.]\n",
      " [345.   0. 553. 620.   0.   0.   0.   0.   0.   0.]\n",
      " [456.   0. 579. 297.   0.   0.   0.   0.   0.   0.]\n",
      " [242.   0. 123. 685.   0.   0.   0.   0.   0.   0.]\n",
      " [540.   0. 176.   0.   0.   0.   0.   0.   0.   0.]\n",
      " [599.   0. 566.   0.   0.   0.   0.   0.   0.   0.]\n",
      " [272.   0. 183.   0.   0.   0.   0.   0.   0.   0.]\n",
      " [290.   0. 212.   0.   0.   0.   0.   0.   0.   0.]\n",
      " [483.   0.   0.   0.   0.   0.   0.   0.   0.   0.]\n",
      " [399.   0.   0.   0.   0.   0.   0.   0.   0.   0.]\n",
      " [  0.   0.   0.   0.   0.   0.   0.   0.   0.   0.]\n",
      " [  0.   0.   0.   0.   0.   0.   0.   0.   0.   0.]\n",
      " [  0.   0.   0.   0.   0.   0.   0.   0.   0.   0.]\n",
      " [  0.   0.   0.   0.   0.   0.   0.   0.   0.   0.]\n",
      " [  0.   0.   0.   0.   0.   0.   0.   0.   0.   0.]\n",
      " [  0.   0.   0.   0.   0.   0.   0.   0.   0.   0.]\n",
      " [  0.   0.   0.   0.   0.   0.   0.   0.   0.   0.]\n",
      " [  0.   0.   0.   0.   0.   0.   0.   0.   0.   0.]\n",
      " [  0.   0.   0.   0.   0.   0.   0.   0.   0.   0.]\n",
      " [  0.   0.   0.   0.   0.   0.   0.   0.   0.   0.]\n",
      " [  0.   0.   0.   0.   0.   0.   0.   0.   0.   0.]\n",
      " [  0.   0.   0.   0.   0.   0.   0.   0.   0.   0.]\n",
      " [  0.   0.   0.   0.   0.   0.   0.   0.   0.   0.]\n",
      " [  0.   0.   0.   0.   0.   0.   0.   0.   0.   0.]\n",
      " [  0.   0.   0.   0.   0.   0.   0.   0.   0.   0.]\n",
      " [  0.   0.   0.   0.   0.   0.   0.   0.   0.   0.]\n",
      " [  0.   0.   0.   0.   0.   0.   0.   0.   0.   0.]\n",
      " [  0.   0.   0.   0.   0.   0.   0.   0.   0.   0.]\n",
      " [  0.   0.   0.   0.   0.   0.   0.   0.   0.   0.]\n",
      " [  0.   0.   0.   0.   0.   0.   0.   0.   0.   0.]\n",
      " [  0.   0.   0.   0.   0.   0.   0.   0.   0.   0.]\n",
      " [  0.   0.   0.   0.   0.   0.   0.   0.   0.   0.]\n",
      " [  0.   0.   0.   0.   0.   0.   0.   0.   0.   0.]\n",
      " [  0.   0.   0.   0.   0.   0.   0.   0.   0.   0.]\n",
      " [  0.   0.   0.   0.   0.   0.   0.   0.   0.   0.]\n",
      " [  0.   0.   0.   0.   0.   0.   0.   0.   0.   0.]\n",
      " [  0.   0.   0.   0.   0.   0.   0.   0.   0.   0.]\n",
      " [  0.   0.   0.   0.   0.   0.   0.   0.   0.   0.]\n",
      " [  0.   0.   0.   0.   0.   0.   0.   0.   0.   0.]\n",
      " [  0.   0.   0.   0.   0.   0.   0.   0.   0.   0.]\n",
      " [  0.   0.   0.   0.   0.   0.   0.   0.   0.   0.]]\n"
     ]
    }
   ],
   "source": [
    "dummy = np.copy(X5)           #dummy proxies X5 to avoid messing with our map\n",
    "biggestp = np.zeros((1,ndigits))    #will store rankings of important pixels for each digit\n",
    "v = np.zeros((1,ndigits))\n",
    "for ii in range(100):           #as opposed to previous pixel ranking, we now consider top 100 pixels\n",
    "    for jj in range(ndigits):   #for each of the 10 digits individually\n",
    "        digit = dummy[jj,:]        #digit takes the jth column of X10 when we are considering digit j\n",
    "        index = np.argmax(digit)   #find the index of the heaviest digit in this column\n",
    "        v[0,jj] = index           #v stores the index of this digit \n",
    "        dummy[jj,index] = 0       #set this entry of x10 proxy to 0\n",
    "    biggestp = np.vstack((biggestp,v))          #take heaviest for each pixel, then 2nd heaviest for each pixel, etc.\n",
    "biggestp = np.delete(biggestp, 0, 0)        \n",
    "print(biggestp)"
   ]
  },
  {
   "cell_type": "code",
   "execution_count": 378,
   "metadata": {},
   "outputs": [],
   "source": [
    "Sparsedig = np.zeros((ndigits,npixels))  #Sparsedig will be our new sparse X5 \n",
    "                                         #keeping the 15 most important pixels for each digit\n",
    "for ii in range(ndigits):    \n",
    "    for jj in range(15):\n",
    "        k =  biggestp[jj,ii]             #include the weights of the 15 most important pixels in each row\n",
    "        k = int(k)                     \n",
    "        Sparsedig[ii,k] = X5[ii,k]        #put them into Sparsedig\n",
    "    \n",
    "Deedig = np.dot(C,Sparsedig.T)           #Deedig contains predictions of Sparsedig"
   ]
  },
  {
   "cell_type": "code",
   "execution_count": 379,
   "metadata": {},
   "outputs": [
    {
     "name": "stdout",
     "output_type": "stream",
     "text": [
      "150\n"
     ]
    }
   ],
   "source": [
    "nonzero = 0\n",
    "for jj in range(ndigits):\n",
    "    for ii in range(npixels):\n",
    "        if Sparsedig[jj,ii] != 0:        #note: Sparsedig has 15 nonzero entries of most important pixels\n",
    "            nonzero = nonzero + 1        #in each of the 10 columns\n",
    "print(nonzero)                           #i.e. Sparsedig has 150 nonzero entries, i.e.\\leq 150 pixels considered"
   ]
  },
  {
   "cell_type": "markdown",
   "metadata": {},
   "source": [
    "Now that we have our sparse map $\\texttt{Sparsedig}$, we can evaluate the error incurred in using this for prediction. At this stage, we must formulate a new version of error, seeing as $\\texttt{Sparsedig}$ is now deciding a yes/no of whether a given digit is appeared, rather than picking a \"most-probably-depicted\" digit."
   ]
  },
  {
   "cell_type": "code",
   "execution_count": 412,
   "metadata": {},
   "outputs": [
    {
     "name": "stdout",
     "output_type": "stream",
     "text": [
      "[[0.0954 0.071  0.1    0.101  0.0979 0.0889 0.0851 0.1016 0.0874 0.1002]]\n"
     ]
    }
   ],
   "source": [
    "dig_error = np.zeros((1, ndigits))   \n",
    "              #dig_error will hold the number of \"error\" entries for one digit in each of 10 entries\n",
    "             #if Deedig assigns a value \\geq 0.5 to a given image in a given column, Deedig sais \"yes\" to the digit\n",
    "for jj in range(ntesting):\n",
    "    for ii in range(ndigits):\n",
    "        if np.absolute(Deedig[jj,ii] - D[jj,ii]) > 0.5:  #if Deedig is off by more than 0.5, it must have chosen wrong\n",
    "            dig_error[0,ii] = dig_error[0,ii] + 1\n",
    "dig_erat = (1/ntesting)*dig_error\n",
    "print(dig_erat)"
   ]
  },
  {
   "cell_type": "markdown",
   "metadata": {},
   "source": [
    "By looking at the above vector, we now see that $\\texttt{Sparsedig}$ has an error rate of around 10% in distinguishing each individual digit! This is a good performance. We can again consider a heat-map prediction of the sparse matrix $\\texttt{Sparsedig}$ representing our images-labels map:"
   ]
  },
  {
   "cell_type": "code",
   "execution_count": 407,
   "metadata": {},
   "outputs": [
    {
     "data": {
      "text/plain": [
       "<matplotlib.colorbar.Colorbar at 0x1021dcdbd0>"
      ]
     },
     "execution_count": 407,
     "metadata": {},
     "output_type": "execute_result"
    },
    {
     "data": {
      "image/png": "[encoded data removed]",
      "text/plain": [
       "<Figure size 432x288 with 2 Axes>"
      ]
     },
     "metadata": {
      "needs_background": "light"
     },
     "output_type": "display_data"
    }
   ],
   "source": [
    "plt.pcolor(np.absolute(Sparsedig.T),cmap='afmhot')\n",
    "plt.colorbar()"
   ]
  },
  {
   "cell_type": "markdown",
   "metadata": {},
   "source": [
    "Finally, we now proceed to the second method of identifying a map from labels to images based on observing only individual digits. In particular, in the section below we re-start the above process, training and cross-validating once more, for each individual digit. Doing so produces individually specialized vectors $\\texttt{X5_k}$, respectively tuned to determine whether or not the input image depicts the digit $k$.once these vectors are obtained, they are placed into a single matrix $\\texttt{Xsingle}$. Once this matrix is obtained, it is thinned out to contain only the 15 most-important pixels as nonzero entries in columns, via a process identical to that producing $\\texttt{Sparsedig}$ above; this sparse matrix is named $\\texttt{Sparse_single}$. Lastly, prediction matrices $\\texttt{Dsingle}$ and $\\texttt{Deesingle}$, corresponding to $\\texttt{Xsingle}$ and $\\texttt{Sparse_single}$ respectively, are then evaluated and analyzed just as $\\texttt{Deedig}$ is above."
   ]
  },
  {
   "cell_type": "code",
   "execution_count": 120,
   "metadata": {},
   "outputs": [],
   "source": [
    "b0 = B[:,0] ; d0 = D[:,0]\n",
    "b1 = B[:,1] ; d1 = D[:,1]      #vectors bk correspond to the training labels for digit k\n",
    "b2 = B[:,2] ; d2 = D[:,2]      #bk[jj] =  1 iff image jj depicts k\n",
    "b3 = B[:,3] ; d3 = D[:,3]      #the same is done for dk\n",
    "b4 = B[:,4] ; d4 = D[:,4]\n",
    "b5 = B[:,5] ; d5 = D[:,5]\n",
    "b6 = B[:,6] ; d6 = D[:,6]\n",
    "b7 = B[:,7] ; d7 = D[:,7]\n",
    "b8 = B[:,8] ; d8 = D[:,8]\n",
    "b9 = B[:,9] ; d9 = D[:,9]"
   ]
  },
  {
   "cell_type": "code",
   "execution_count": 133,
   "metadata": {},
   "outputs": [],
   "source": [
    "Xdigits = np.zeros((npixels,ndigits))       #Xdigits is the matrix to be filled with digit-wise weights as columns"
   ]
  },
  {
   "cell_type": "code",
   "execution_count": 383,
   "metadata": {},
   "outputs": [],
   "source": [
    "asub = np.zeros((100,npixels))\n",
    "bsub = np.zeros((100,1))\n",
    "X5_0 = np.zeros((npixels))\n",
    "xsub = np.copy(X5_0)                        #training and cross-validation\n",
    "for jj in range(5):                         #we again perform 5-fold cross-validation\n",
    "    asub = A[jj*12000:jj*12000 + 11999,:]      \n",
    "    bsub = B[jj*12000:jj*12000 + 11999,0]\n",
    "    reg = linear_model.Lasso(alpha=0.5)     #again we use Lasso with alpha = 0.5\n",
    "    reg.fit(asub,bsub)             #solution vectors here are therefore produced in complete analogy with X5\n",
    "    xsub = reg.coef_                        \n",
    "    X5_0 = X5_0 + xsub\n",
    "X5_0 = 0.2*X5_0                    #X5_0 is vector of weights for deciding whether 0 is depicted"
   ]
  },
  {
   "cell_type": "code",
   "execution_count": 384,
   "metadata": {},
   "outputs": [],
   "source": [
    "asub = np.zeros((100,npixels))\n",
    "bsub = np.zeros((100,1))\n",
    "X5_1 = np.zeros((npixels))\n",
    "xsub = np.copy(X5_1)                        #identical process as above, determining now X5_1 for digit 1\n",
    "for jj in range(5):\n",
    "    asub = A[jj*12000:jj*12000 + 11999,:]\n",
    "    bsub = B[jj*12000:jj*12000 + 11999,1]\n",
    "    reg = linear_model.Lasso(alpha=0.5)\n",
    "    reg.fit(asub,bsub)\n",
    "    xsub = reg.coef_\n",
    "    X5_1 = X5_1 + xsub\n",
    "X5_1 = 0.2*X5_1"
   ]
  },
  {
   "cell_type": "code",
   "execution_count": 385,
   "metadata": {},
   "outputs": [],
   "source": [
    "asub = np.zeros((100,npixels))\n",
    "bsub = np.zeros((100,1))\n",
    "X5_2 = np.zeros((npixels))\n",
    "xsub = np.copy(X5_2)                        #identical process as above, determining now X5_1 for digit 2\n",
    "for jj in range(5):\n",
    "    asub = A[jj*12000:jj*12000 + 11999,:]\n",
    "    bsub = B[jj*12000:jj*12000 + 11999,2]\n",
    "    reg = linear_model.Lasso(alpha=0.5)\n",
    "    reg.fit(asub,bsub)\n",
    "    xsub = reg.coef_\n",
    "    X5_2 = X5_2 + xsub\n",
    "X5_2 = 0.2*X5_2"
   ]
  },
  {
   "cell_type": "code",
   "execution_count": 386,
   "metadata": {},
   "outputs": [],
   "source": [
    "asub = np.zeros((100,npixels))\n",
    "bsub = np.zeros((100,1))\n",
    "X5_3 = np.zeros((npixels))\n",
    "xsub = np.copy(X5_3)                        #identical process as above, determining now X5_1 for digit 3\n",
    "for jj in range(5):\n",
    "    asub = A[jj*12000:jj*12000 + 11999,:]\n",
    "    bsub = B[jj*12000:jj*12000 + 11999,3]\n",
    "    reg = linear_model.Lasso(alpha=0.5)\n",
    "    reg.fit(asub,bsub)\n",
    "    xsub = reg.coef_\n",
    "    X5_3 = X5_3 + xsub\n",
    "X5_3 = 0.2*X5_3"
   ]
  },
  {
   "cell_type": "code",
   "execution_count": 387,
   "metadata": {},
   "outputs": [],
   "source": [
    "asub = np.zeros((100,npixels))\n",
    "bsub = np.zeros((100,1))\n",
    "X5_4 = np.zeros((npixels))\n",
    "xsub = np.copy(X5_4)                        #identical process as above, determining now X5_1 for digit 4\n",
    "for jj in range(5):\n",
    "    asub = A[jj*12000:jj*12000 + 11999,:]\n",
    "    bsub = B[jj*12000:jj*12000 + 11999,4]\n",
    "    reg = linear_model.Lasso(alpha=0.5)\n",
    "    reg.fit(asub,bsub)\n",
    "    xsub = reg.coef_\n",
    "    X5_4 = X5_4 + xsub\n",
    "X5_4 = 0.2*X5_4"
   ]
  },
  {
   "cell_type": "code",
   "execution_count": 388,
   "metadata": {},
   "outputs": [],
   "source": [
    "asub = np.zeros((100,npixels))\n",
    "bsub = np.zeros((100,1))\n",
    "X5_5 = np.zeros((npixels))\n",
    "xsub = np.copy(X5_5)                        #identical process as above, determining now X5_1 for digit 5\n",
    "for jj in range(5):\n",
    "    asub = A[jj*12000:jj*12000 + 11999,:]\n",
    "    bsub = B[jj*12000:jj*12000 + 11999,5]\n",
    "    reg = linear_model.Lasso(alpha=0.5)\n",
    "    reg.fit(asub,bsub)\n",
    "    xsub = reg.coef_\n",
    "    X5_5 = X5_5 + xsub\n",
    "X5_5 = 0.2*X5_5"
   ]
  },
  {
   "cell_type": "code",
   "execution_count": 389,
   "metadata": {},
   "outputs": [],
   "source": [
    "asub = np.zeros((100,npixels))\n",
    "bsub = np.zeros((100,1))\n",
    "X5_6 = np.zeros((npixels))\n",
    "xsub = np.copy(X5_6)                        #identical process as above, determining now X5_1 for digit 6\n",
    "for jj in range(5):\n",
    "    asub = A[jj*12000:jj*12000 + 11999,:]\n",
    "    bsub = B[jj*12000:jj*12000 + 11999,6]\n",
    "    reg = linear_model.Lasso(alpha=0.5)\n",
    "    reg.fit(asub,bsub)\n",
    "    xsub = reg.coef_\n",
    "    X5_6 = X5_6 + xsub\n",
    "X5_6 = 0.2*X5_6"
   ]
  },
  {
   "cell_type": "code",
   "execution_count": 390,
   "metadata": {},
   "outputs": [],
   "source": [
    "asub = np.zeros((100,npixels))\n",
    "bsub = np.zeros((100,1))\n",
    "X5_7 = np.zeros((npixels))\n",
    "xsub = np.copy(X5_7)                        #identical process as above, determining now X5_1 for digit 7\n",
    "for jj in range(5):\n",
    "    asub = A[jj*12000:jj*12000 + 11999,:]\n",
    "    bsub = B[jj*12000:jj*12000 + 11999,7]\n",
    "    reg = linear_model.Lasso(alpha=0.5)\n",
    "    reg.fit(asub,bsub)\n",
    "    xsub = reg.coef_\n",
    "    X5_7 = X5_7 + xsub\n",
    "X5_7 = 0.2*X5_7"
   ]
  },
  {
   "cell_type": "code",
   "execution_count": 391,
   "metadata": {},
   "outputs": [],
   "source": [
    "asub = np.zeros((100,npixels))\n",
    "bsub = np.zeros((100,1))\n",
    "X5_8 = np.zeros((npixels))\n",
    "xsub = np.copy(X5_8)                        #identical process as above, determining now X5_1 for digit 8\n",
    "for jj in range(5):\n",
    "    asub = A[jj*12000:jj*12000 + 11999,:]\n",
    "    bsub = B[jj*12000:jj*12000 + 11999,8]\n",
    "    reg = linear_model.Lasso(alpha=0.5)\n",
    "    reg.fit(asub,bsub)\n",
    "    xsub = reg.coef_\n",
    "    X5_8 = X5_8 + xsub\n",
    "X5_8 = 0.2*X5_8"
   ]
  },
  {
   "cell_type": "code",
   "execution_count": 392,
   "metadata": {},
   "outputs": [],
   "source": [
    "asub = np.zeros((100,npixels))\n",
    "bsub = np.zeros((100,1))\n",
    "X5_9 = np.zeros((npixels))\n",
    "xsub = np.copy(X5_9)                        #identical process as above, determining now X5_1 for digit 9\n",
    "for jj in range(5):\n",
    "    asub = A[jj*12000:jj*12000 + 11999,:]\n",
    "    bsub = B[jj*12000:jj*12000 + 11999,9]\n",
    "    reg = linear_model.Lasso(alpha=0.5)\n",
    "    reg.fit(asub,bsub)\n",
    "    xsub = reg.coef_\n",
    "    X5_9 = X5_9 + xsub\n",
    "X5_9 = 0.2*X5_9"
   ]
  },
  {
   "cell_type": "code",
   "execution_count": 394,
   "metadata": {},
   "outputs": [],
   "source": [
    "Dsingle = np.zeros((ntesting,ndigits))\n",
    "Dsingle[:,0] = np.dot(C,X5_0)\n",
    "Dsingle[:,1] = np.dot(C,X5_1)\n",
    "Dsingle[:,2] = np.dot(C,X5_2)\n",
    "Dsingle[:,3] = np.dot(C,X5_3)              #Dsingle is now constructed column-wise \n",
    "Dsingle[:,4] = np.dot(C,X5_4)              #kth col of Dsingle contains predictions of X5_k on test data\n",
    "Dsingle[:,5] = np.dot(C,X5_5)\n",
    "Dsingle[:,6] = np.dot(C,X5_6)\n",
    "Dsingle[:,7] = np.dot(C,X5_7)\n",
    "Dsingle[:,8] = np.dot(C,X5_8)\n",
    "Dsingle[:,9] = np.dot(C,X5_9)"
   ]
  },
  {
   "cell_type": "code",
   "execution_count": 410,
   "metadata": {},
   "outputs": [
    {
     "name": "stdout",
     "output_type": "stream",
     "text": [
      "[[0.0397 0.0623 0.0547 0.0529 0.0833 0.0817 0.0377 0.0642 0.0455 0.0818]]\n"
     ]
    }
   ],
   "source": [
    "dig_errors = np.zeros((1, ndigits))   \n",
    "              #dig_errors will hold the number of \"error\" entries for one digit in each of 10 entries\n",
    "             #if Dsingle assigns a value \\geq 0.5 to a given image in a given column, Deedig sais \"yes\" to the digit\n",
    "for jj in range(ntesting):\n",
    "    for ii in range(ndigits):\n",
    "        if np.absolute(Dsingle[jj,ii] - D[jj,ii]) > 0.5:  #if Dsingle is off by more than 0.5, it has chosen wrong\n",
    "            dig_errors[0,ii] = dig_errors[0,ii] + 1\n",
    "dig_eratio = (1/ntesting)*dig_errors\n",
    "print(dig_eratio)"
   ]
  },
  {
   "cell_type": "markdown",
   "metadata": {},
   "source": [
    "The above vector contains the fraction of errors incurred by each of the individual maps $\\texttt{X5_k}$; clearly, the re-trained digit-wise maps perform better than the columns of $\\texttt{Sparsedig}$ above, as here we see roughly 6% error rate for each digit individually. However, this improvement should be taken with a grain of salt, as $\\texttt{Sparsedig}$ consisted of only the 15 most important pixels in each digit prediction. To level the playing field, we now perform the same process for the $\\texttt{X5_k}$ and re-evaluate."
   ]
  },
  {
   "cell_type": "code",
   "execution_count": 397,
   "metadata": {},
   "outputs": [],
   "source": [
    "Xsingle = np.zeros((ndigits,npixels))    #for technical convenience, combine X5_k vect into Xsingle matrix\n",
    "Xsingle[0,:] = X5_0\n",
    "Xsingle[1,:] = X5_1\n",
    "Xsingle[2,:] = X5_2\n",
    "Xsingle[3,:] = X5_3\n",
    "Xsingle[4,:] = X5_4\n",
    "Xsingle[5,:] = X5_5\n",
    "Xsingle[6,:] = X5_6\n",
    "Xsingle[7,:] = X5_7\n",
    "Xsingle[8,:] = X5_8\n",
    "Xsingle[9,:] = X5_9"
   ]
  },
  {
   "cell_type": "code",
   "execution_count": 398,
   "metadata": {},
   "outputs": [
    {
     "name": "stdout",
     "output_type": "stream",
     "text": [
      "[[359. 350. 528. 564. 426. 248. 102. 708. 657. 718.]\n",
      " [386. 378. 583. 323. 428. 220. 103. 741. 348. 719.]\n",
      " [300. 406. 555. 376. 427. 191. 104. 709. 514. 717.]\n",
      " [413. 434. 609. 409. 463. 277.  70. 739. 376. 716.]\n",
      " [330. 322. 556. 651. 439. 276.  72. 711. 656. 212.]\n",
      " [329. 462. 610. 176. 374. 192. 101. 743. 541. 210.]\n",
      " [358. 489. 124. 151. 460. 249. 543. 715. 275. 211.]\n",
      " [429. 517. 518. 350. 464. 162. 514. 284. 433. 712.]\n",
      " [511. 295. 517. 150. 425. 190.  99. 738. 515. 713.]\n",
      " [387. 294. 149. 650. 431. 348. 572. 266. 460. 720.]\n",
      " [627. 405. 509. 497. 400. 188.  69. 712. 302. 714.]\n",
      " [401. 433. 580. 466. 490. 189. 100. 742. 487. 409.]\n",
      " [482. 159. 151. 653. 398. 376. 414. 713. 488. 715.]\n",
      " [240. 461. 566. 296. 353. 597. 375. 267. 319. 379.]\n",
      " [271. 267. 491. 322. 437. 161. 576. 264. 320. 370.]\n",
      " [512. 545. 569. 152. 325. 315. 602. 268. 659. 355.]\n",
      " [454. 266. 539. 680. 399. 347. 415. 714. 327. 213.]\n",
      " [629. 490. 611. 178. 373. 567. 486. 710. 658. 464.]\n",
      " [427. 323. 519. 655. 462. 319. 573. 265. 157. 711.]\n",
      " [214. 160. 492. 177. 401. 374. 601. 257. 405. 345.]\n",
      " [628. 659. 581. 324. 346. 260. 575. 296. 301. 710.]\n",
      " [182. 214. 150. 153. 438. 375. 496. 297. 662. 401.]\n",
      " [456. 158. 460. 523. 190. 163. 441. 259. 261. 343.]\n",
      " [428. 653. 125. 593. 381. 291. 408. 234. 326. 692.]\n",
      " [210. 187. 541. 495. 347. 538. 430. 326. 290. 344.]\n",
      " [331. 660. 595. 349. 436. 568.  98. 285. 260. 430.]\n",
      " [598. 658. 516. 175. 465. 609. 348. 231. 627. 352.]\n",
      " [630. 630. 459. 380. 454. 187. 523. 232. 661. 317.]\n",
      " [213. 571. 568. 179. 409. 289.  71. 235. 688. 371.]\n",
      " [270. 574. 511. 682. 456. 346. 522. 744. 274. 353.]\n",
      " [399. 239. 128. 679. 459. 317.  68. 263. 434. 459.]\n",
      " [185. 602. 565. 181. 461. 320. 403. 260. 404. 318.]\n",
      " [301. 631. 579. 352. 455. 318. 574. 261. 156. 381.]\n",
      " [239. 241. 510. 549. 466. 206. 515. 233. 300. 372.]\n",
      " [211. 598. 123. 654. 429. 207. 470. 299. 461. 382.]\n",
      " [626.   0. 538. 522. 189. 263. 549. 437. 377. 354.]\n",
      " [414.   0. 527. 683. 491. 344. 386. 740. 542. 342.]\n",
      " [426.   0. 593. 438. 489. 288. 442. 737. 303. 356.]\n",
      " [318.   0. 155. 468. 430. 219. 443. 411. 291. 209.]\n",
      " [265.   0. 537. 620. 402. 634. 385. 436. 406. 380.]\n",
      " [184.   0. 122. 408. 352. 608. 320. 298. 660. 316.]\n",
      " [569.   0. 520. 604. 319. 596. 653. 269. 234. 373.]\n",
      " [186.   0. 154. 656. 191. 235. 458. 258. 155. 290.]\n",
      " [209.   0. 126. 578. 632. 316. 485. 381. 379. 406.]\n",
      " [373.   0. 596. 410. 372. 569. 544. 300. 287. 458.]\n",
      " [241.   0. 521. 657. 457. 635. 413. 439. 349. 436.]\n",
      " [540.   0. 153. 270. 458. 373. 402. 353. 262. 237.]\n",
      " [481.   0. 553. 381. 380. 305. 577. 682. 246. 429.]\n",
      " [510.   0. 567. 180. 631. 580.  73. 286. 687. 432.]\n",
      " [597.   0. 578. 271. 408. 234. 468. 230. 463. 437.]\n",
      " [483.   0. 152. 467. 411. 216. 497. 438. 328. 328.]\n",
      " [181.   0. 594. 592. 271. 598. 682. 262. 273. 351.]\n",
      " [299.   0. 607. 149. 633. 626. 550. 573. 655. 405.]\n",
      " [266.   0. 582. 551. 432. 552. 457. 409. 432. 369.]\n",
      " [183.   0. 551. 437. 216. 345. 495. 354. 663. 325.]\n",
      " [570.   0. 550. 439. 435. 214. 469. 410. 247. 431.]\n",
      " [402.   0. 493. 577. 298. 658.  74. 325. 353. 291.]\n",
      " [346.   0. 465. 183. 243. 261. 384. 464. 289. 327.]\n",
      " [243.   0. 157. 649. 630. 287. 600. 716. 686. 428.]\n",
      " [155.   0. 464. 182. 217. 627. 412. 545. 318. 378.]\n",
      " [631.   0. 554. 681. 518. 579. 292. 680. 628. 185.]\n",
      " [242.   0. 156. 353.   0. 657. 383. 293. 330. 236.]\n",
      " [267.   0. 297. 623.   0. 582. 683. 270. 690. 374.]\n",
      " [441.   0. 542. 148.   0. 607. 652. 236. 513. 383.]\n",
      " [457.   0. 636. 272.   0. 290. 401. 327. 317. 400.]\n",
      " [302.   0. 488. 622.   0. 554. 603. 328. 380. 408.]\n",
      " [269.   0. 183. 297.   0. 233. 293. 383. 299. 357.]\n",
      " [272.   0. 540. 494.   0. 625. 435. 408. 263. 404.]\n",
      " [156.   0. 298. 524.   0. 404. 542. 294. 183. 326.]\n",
      " [238.   0. 608. 101.   0. 186. 347. 355. 329. 329.]\n",
      " [484.   0. 552. 550.   0. 160. 513. 572. 462. 402.]\n",
      " [345.   0. 127. 469.   0. 656. 343. 491. 182. 184.]\n",
      " [468.   0. 327. 244.   0. 215. 429. 518. 184. 238.]\n",
      " [656.   0. 564. 211.   0. 578. 411. 600. 435. 403.]\n",
      " [658.   0. 180. 652.   0. 343. 131. 271. 288.   0.]\n",
      " [655.   0. 121. 496.   0. 684.   0. 295. 316.   0.]\n",
      " [385.   0. 570. 351.   0. 217.   0. 465. 491.   0.]\n",
      " [268.   0. 185. 243.   0. 494.   0. 440. 181.   0.]\n",
      " [455.   0. 181. 684.   0. 606.   0. 382. 259.   0.]\n",
      " [357.   0. 543. 563.   0. 636.   0. 681. 154.   0.]\n",
      " [372.   0. 549. 552.   0. 632.   0.   0. 272.   0.]\n",
      " [237.   0. 431. 382.   0. 342.   0.   0. 407.   0.]\n",
      " [154.   0. 637. 202.   0. 262.   0.   0. 689.   0.]\n",
      " [453.   0. 622. 685.   0. 292.   0.   0. 654.   0.]\n",
      " [541.   0. 178. 295.   0. 633.   0.   0. 286.   0.]\n",
      " [415.   0. 512. 325.   0. 232.   0.   0. 540.   0.]\n",
      " [568.   0. 184. 493.   0. 685.   0.   0. 490.   0.]\n",
      " [208.   0. 269. 631.   0. 605.   0.   0. 597.   0.]\n",
      " [625.   0. 597. 154.   0. 520.   0.   0. 233.   0.]\n",
      " [212.   0. 487. 127.   0. 493.   0.   0. 568.   0.]\n",
      " [292.   0. 545. 576.   0. 349.   0.   0. 186.   0.]\n",
      " [659.   0. 514. 498.   0. 522.   0.   0. 235.   0.]\n",
      " [398.   0. 177. 525.   0. 553.   0.   0. 236.   0.]\n",
      " [400.   0. 458. 174.   0. 566.   0.   0. 570.   0.]\n",
      " [215.   0. 547. 440.   0.   0.   0.   0. 217.   0.]\n",
      " [485.   0. 179. 298.   0.   0.   0.   0. 208.   0.]\n",
      " [291.   0. 382. 605.   0.   0.   0.   0. 691.   0.]\n",
      " [374.   0. 176. 521.   0.   0.   0.   0. 598.   0.]\n",
      " [328.   0. 490. 625.   0.   0.   0.   0. 158.   0.]\n",
      " [657.   0. 544. 269.   0.   0.   0.   0. 626.   0.]]\n"
     ]
    }
   ],
   "source": [
    "dummy = np.copy(Xsingle)           #dummy proxies X5 to avoid messing with our map\n",
    "biggestp = np.zeros((1,ndigits))    #will store rankings of important pixels for each digit\n",
    "v = np.zeros((1,ndigits))\n",
    "for ii in range(100):           #as opposed to previous pixel ranking, we now consider top 100 pixels\n",
    "    for jj in range(ndigits):   #for each of the 10 digits individually\n",
    "        digit = dummy[jj,:]        #digit takes the jth column of X10 when we are considering digit j\n",
    "        index = np.argmax(digit)   #find the index of the heaviest digit in this column\n",
    "        v[0,jj] = index           #v stores the index of this digit \n",
    "        dummy[jj,index] = 0       #set this entry of x10 proxy to 0\n",
    "    biggestp = np.vstack((biggestp,v))          #take heaviest for each pixel, then 2nd heaviest for each pixel, etc.\n",
    "biggestp = np.delete(biggestp, 0, 0)        \n",
    "print(biggestp)"
   ]
  },
  {
   "cell_type": "code",
   "execution_count": 399,
   "metadata": {},
   "outputs": [],
   "source": [
    "Sparse_single = np.zeros((ndigits,npixels))  #Sparse_single will be our new sparse X5 \n",
    "                                         #keeping the 15 most important pixels for each digit\n",
    "for ii in range(ndigits):    \n",
    "    for jj in range(15):\n",
    "        k =  biggestp[jj,ii]             #include the weights of the 15 most important pixels in each row\n",
    "        k = int(k)                     \n",
    "        Sparse_single[ii,k] = X5[ii,k]        #put them into Sparse_single\n",
    "    \n",
    "Deesingle = np.dot(C,Sparse_single.T)  "
   ]
  },
  {
   "cell_type": "code",
   "execution_count": 409,
   "metadata": {},
   "outputs": [
    {
     "name": "stdout",
     "output_type": "stream",
     "text": [
      "[[0.098  0.0678 0.1032 0.101  0.0982 0.0892 0.0838 0.1028 0.0928 0.1012]]\n"
     ]
    }
   ],
   "source": [
    "dig_errorss = np.zeros((1, ndigits))   \n",
    "              #dig_errors will hold the number of \"error\" entries for one digit in each of 10 entries\n",
    "             #if Deesingle assigns a value \\geq 0.5 to a given image in a given column, Deesingle sais \"yes\" to the digit\n",
    "for jj in range(ntesting):\n",
    "    for ii in range(ndigits):\n",
    "        if np.absolute(Deesingle[jj,ii] - D[jj,ii]) > 0.5:  #if Deesingle is off by more than 0.5, it must have chosen wrong\n",
    "            dig_errorss[0,ii] = dig_errorss[0,ii] + 1\n",
    "dig_eratios = (1/ntesting)*dig_errorss\n",
    "print(dig_eratios)"
   ]
  },
  {
   "cell_type": "code",
   "execution_count": 411,
   "metadata": {},
   "outputs": [
    {
     "name": "stdout",
     "output_type": "stream",
     "text": [
      "[[0.0397 0.0623 0.0547 0.0529 0.0833 0.0817 0.0377 0.0642 0.0455 0.0818]]\n"
     ]
    }
   ],
   "source": [
    "print(dig_eratio) "
   ]
  },
  {
   "cell_type": "code",
   "execution_count": 413,
   "metadata": {},
   "outputs": [
    {
     "name": "stdout",
     "output_type": "stream",
     "text": [
      "[[0.0954 0.071  0.1    0.101  0.0979 0.0889 0.0851 0.1016 0.0874 0.1002]]\n"
     ]
    }
   ],
   "source": [
    "print(dig_erat)"
   ]
  },
  {
   "cell_type": "markdown",
   "metadata": {},
   "source": [
    "Now, comparing the error ratios incurred by $\\texttt{Sparsedig}$ and $\\texttt{Sparse_single}$, it is clear to see that the performance of the two is nearly identical; that is, if sparsity is mandated, it does not matter whether or not we retrained on single digits. The cross-validated Lasso procedure therefore produces comparable errors up to the 15 most-important pixels when considered as evaluating whether individual digits are produced. For the sake of completeness, below we also consider the heat-map depictions of the matrices $\\texttt{Xsingle}$ and $\\texttt{Sparse_single}$ produced by digit-wise retraining and subsequent sparsity enforcement."
   ]
  },
  {
   "cell_type": "markdown",
   "metadata": {},
   "source": [
    "At this stage, we turn our attention to plots for the sake of visualization. In the above body of the notebook, we have been neglecting plots; this is because during the writing of the notebook, I did all of my plotting In the section below. "
   ]
  },
  {
   "cell_type": "code",
   "execution_count": 430,
   "metadata": {},
   "outputs": [
    {
     "data": {
      "text/plain": [
       "Text(0.5, 0, 'Sparse_single')"
      ]
     },
     "execution_count": 430,
     "metadata": {},
     "output_type": "execute_result"
    },
    {
     "data": {
      "image/png": "[encoded data removed]",
      "text/plain": [
       "<Figure size 1440x720 with 12 Axes>"
      ]
     },
     "metadata": {
      "needs_background": "light"
     },
     "output_type": "display_data"
    }
   ],
   "source": [
    "#Here we consider the relative sparsity patterns of the six matrices Xlas2, X5, Sparse_150, Sparsedig, Xsingle, and Sparse_single\n",
    "#it is clear from the plots that all six of these maps place relatively similar importance on many of the highest-ranking pixels\n",
    "\n",
    "\n",
    "plt.rcParams['figure.figsize'] = [20, 10]\n",
    "\n",
    "fig,axs = plt.subplots(3,2)\n",
    "\n",
    "x_pcolor = axs[0,0].pcolor(np.absolute(Xlas2.T),cmap='afmhot')\n",
    "fig.colorbar(x_pcolor, ax=axs[0,0])\n",
    "axs[0,0].set_xlabel('Xlas2')\n",
    "\n",
    "\n",
    "x_pcolor = axs[0,1].pcolor(np.absolute(X5.T),cmap='afmhot')\n",
    "fig.colorbar(x_pcolor, ax=axs[0,1])\n",
    "axs[0,1].set_xlabel('X5')\n",
    "\n",
    "\n",
    "x_pcolor = axs[1,0].pcolor(np.absolute(Sparse_150.T),cmap='afmhot')\n",
    "fig.colorbar(x_pcolor, ax=axs[1,0])\n",
    "axs[1,0].set_xlabel('Sparse_150')\n",
    "\n",
    "\n",
    "x_pcolor = axs[1,1].pcolor(Sparsedig.T,cmap='afmhot')\n",
    "fig.colorbar(x_pcolor, ax=axs[1,1])\n",
    "axs[1,1].set_xlabel('Sparsedig')\n",
    "\n",
    "\n",
    "x_pcolor = axs[2,0].pcolor(np.absolute(Xsingle.T),cmap='afmhot')\n",
    "fig.colorbar(x_pcolor, ax=axs[2,0])\n",
    "axs[2,0].set_xlabel('XSingle')\n",
    "\n",
    "\n",
    "x_pcolor = axs[2,1].pcolor(Sparse_single.T,cmap='afmhot')\n",
    "fig.colorbar(x_pcolor, ax=axs[2,1])\n",
    "axs[2,1].set_xlabel('Sparse_single')\n"
   ]
  },
  {
   "cell_type": "code",
   "execution_count": 458,
   "metadata": {},
   "outputs": [
    {
     "data": {
      "text/plain": [
       "Text(0.5, 0, 'Sparse_150')"
      ]
     },
     "execution_count": 458,
     "metadata": {},
     "output_type": "execute_result"
    },
    {
     "data": {
      "image/png": "[encoded data removed]",
      "text/plain": [
       "<Figure size 720x144 with 5 Axes>"
      ]
     },
     "metadata": {
      "needs_background": "light"
     },
     "output_type": "display_data"
    }
   ],
   "source": [
    "#this is one of the plots included in the report, constructed explicitly for the purpose of including in the report\n",
    "\n",
    "plt.rcParams['figure.figsize'] = [12, 10]\n",
    "\n",
    "fig,axs = plt.subplots(1,3)\n",
    "\n",
    "x_pcolor = axs[0].pcolor(np.absolute(Xlas2.T),cmap='afmhot')\n",
    "fig.colorbar(x_pcolor, ax=axs[0])\n",
    "axs[0].set_xlabel('Xlas2')\n",
    "\n",
    "\n",
    "x_pcolor = axs[1].pcolor(np.absolute(X5.T),cmap='afmhot')\n",
    "#fig.colorbar(x_pcolor, ax=axs[1])\n",
    "axs[1].set_xlabel('X5')\n",
    "\n",
    "\n",
    "x_pcolor = axs[2].pcolor(np.absolute(Sparse_150.T),cmap='afmhot')\n",
    "fig.colorbar(x_pcolor, ax=axs[2])\n",
    "axs[2].set_xlabel('Sparse_150')\n"
   ]
  },
  {
   "cell_type": "code",
   "execution_count": 461,
   "metadata": {},
   "outputs": [
    {
     "data": {
      "text/plain": [
       "Text(0.5, 0, 'Sparse_single')"
      ]
     },
     "execution_count": 461,
     "metadata": {},
     "output_type": "execute_result"
    },
    {
     "data": {
      "image/png": "[encoded data removed]",
      "text/plain": [
       "<Figure size 864x720 with 4 Axes>"
      ]
     },
     "metadata": {
      "needs_background": "light"
     },
     "output_type": "display_data"
    }
   ],
   "source": [
    "#this is one of the plots included in the report, constructed explicitly for the purpose of including in the report\n",
    "\n",
    "plt.rcParams['figure.figsize'] = [12, 10]\n",
    "\n",
    "fig,axs = plt.subplots(1,3)\n",
    "\n",
    "x_pcolor = axs[0].pcolor(np.absolute(Sparsedig.T),cmap='afmhot')\n",
    "#fig.colorbar(x_pcolor, ax=axs[0])\n",
    "axs[0].set_xlabel('Sparsedig')\n",
    "\n",
    "\n",
    "x_pcolor = axs[1].pcolor(np.absolute(Xsingle.T),cmap='afmhot')\n",
    "#fig.colorbar(x_pcolor, ax=axs[1])\n",
    "axs[1].set_xlabel('Xsingle')\n",
    "\n",
    "\n",
    "x_pcolor = axs[2].pcolor(np.absolute(Sparse_single.T),cmap='afmhot')\n",
    "fig.colorbar(x_pcolor, ax=axs[2])\n",
    "axs[2].set_xlabel('Sparse_single')"
   ]
  },
  {
   "cell_type": "code",
   "execution_count": 447,
   "metadata": {},
   "outputs": [],
   "source": [
    "allpix = np.zeros((10))    #Here, we construct the vectors used in constructing the histograms included in the report\n",
    "top15 = np.zeros((10))\n",
    "fromx5 = np.zeros((10))\n",
    "for ii in range(10):\n",
    "    fromx5[ii] = dig_erat[0,ii]\n",
    "    allpix[ii] = dig_eratio[0,ii]\n",
    "    top15[ii] = dig_eratios[0,ii]"
   ]
  },
  {
   "cell_type": "code",
   "execution_count": 457,
   "metadata": {},
   "outputs": [
    {
     "data": {
      "text/plain": [
       "(0.025, 0.15)"
      ]
     },
     "execution_count": 457,
     "metadata": {},
     "output_type": "execute_result"
    },
    {
     "data": {
      "image/png": "[encoded data removed]",
      "text/plain": [
       "<Figure size 720x144 with 2 Axes>"
      ]
     },
     "metadata": {
      "needs_background": "light"
     },
     "output_type": "display_data"
    }
   ],
   "source": [
    "plt.rcParams['figure.figsize'] = [10, 2]   #explanations of these plots are included in the report\n",
    "  \n",
    "fig,axs = plt.subplots(1,2)\n",
    "\n",
    "axs[0].bar(range(10),allpix)\n",
    "axs[0].set_title('All pixels')\n",
    "axs[0].set_ylim((0.025,0.15))\n",
    "axs[1].bar(range(10),top15)\n",
    "axs[1].set_title('Top 15 pixels')\n",
    "axs[1].set_ylim((0.025,0.15))\n"
   ]
  },
  {
   "cell_type": "code",
   "execution_count": 456,
   "metadata": {},
   "outputs": [
    {
     "data": {
      "text/plain": [
       "(0.025, 0.15)"
      ]
     },
     "execution_count": 456,
     "metadata": {},
     "output_type": "execute_result"
    },
    {
     "data": {
      "image/png": "[encoded data removed]",
      "text/plain": [
       "<Figure size 720x144 with 2 Axes>"
      ]
     },
     "metadata": {
      "needs_background": "light"
     },
     "output_type": "display_data"
    }
   ],
   "source": [
    "plt.rcParams['figure.figsize'] = [10, 2]   #explanations of these plots are included in the report\n",
    "\n",
    "fig,axs = plt.subplots(1,2)\n",
    "\n",
    "axs[0].bar(range(10),fromx5)\n",
    "axs[0].set_title('From X5, top 15')\n",
    "axs[0].set_ylim((0.025,0.15))\n",
    "axs[1].bar(range(10),top15)\n",
    "axs[1].set_title('Re-trained, top 15')\n",
    "axs[1].set_ylim((0.025,0.15))"
   ]
  },
  {
   "cell_type": "code",
   "execution_count": null,
   "metadata": {},
   "outputs": [],
   "source": []
  }
 ],
 "metadata": {
  "kernelspec": {
   "display_name": "Python 3",
   "language": "python",
   "name": "python3"
  },
  "language_info": {
   "codemirror_mode": {
    "name": "ipython",
    "version": 3
   },
   "file_extension": ".py",
   "mimetype": "text/x-python",
   "name": "python",
   "nbconvert_exporter": "python",
   "pygments_lexer": "ipython3",
   "version": "3.7.4"
  }
 },
 "nbformat": 4,
 "nbformat_minor": 2
}
